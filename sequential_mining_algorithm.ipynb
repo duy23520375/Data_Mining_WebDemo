{
 "cells": [
  {
   "cell_type": "code",
   "execution_count": 2,
   "id": "initial_id",
   "metadata": {
    "ExecuteTime": {
     "end_time": "2025-10-26T12:28:11.408928Z",
     "start_time": "2025-10-26T12:28:10.848446Z"
    },
    "collapsed": true
   },
   "outputs": [],
   "source": [
    "import pandas as pd\n",
    "from prefixspan import PrefixSpan\n",
    "import ast\n",
    "import warnings"
   ]
  },
  {
   "cell_type": "code",
   "execution_count": 3,
   "id": "c80286eafada48bd",
   "metadata": {
    "ExecuteTime": {
     "end_time": "2025-10-26T12:28:32.405455Z",
     "start_time": "2025-10-26T12:28:32.391358Z"
    }
   },
   "outputs": [],
   "source": [
    "warnings.filterwarnings('ignore')"
   ]
  },
  {
   "cell_type": "code",
   "execution_count": null,
   "id": "62eb7afb80461ca4",
   "metadata": {
    "ExecuteTime": {
     "end_time": "2025-10-26T12:29:20.792188Z",
     "start_time": "2025-10-26T12:29:20.712679Z"
    }
   },
   "outputs": [],
   "source": [
    "df = pd.read_csv('data_final_fix.csv')"
   ]
  },
  {
   "cell_type": "code",
   "execution_count": 6,
   "id": "520f7303066e7c37",
   "metadata": {
    "ExecuteTime": {
     "end_time": "2025-10-26T12:34:05.246943Z",
     "start_time": "2025-10-26T12:34:05.232202Z"
    }
   },
   "outputs": [
    {
     "name": "stdout",
     "output_type": "stream",
     "text": [
      "<class 'pandas.core.frame.DataFrame'>\n",
      "RangeIndex: 10181 entries, 0 to 10180\n",
      "Data columns (total 16 columns):\n",
      " #   Column          Non-Null Count  Dtype  \n",
      "---  ------          --------------  -----  \n",
      " 0   timestamp       10181 non-null  object \n",
      " 1   course_url      10181 non-null  object \n",
      " 2   title           10181 non-null  object \n",
      " 3   headline        10178 non-null  object \n",
      " 4   is_bestseller   10181 non-null  object \n",
      " 5   rating          10181 non-null  float64\n",
      " 6   num_reviews     10181 non-null  object \n",
      " 7   num_students    10181 non-null  object \n",
      " 8   instructor      10181 non-null  object \n",
      " 9   language        10181 non-null  object \n",
      " 10  price           10181 non-null  float64\n",
      " 11  discount        9831 non-null   object \n",
      " 12  related_topics  10181 non-null  object \n",
      " 13  sections        10181 non-null  float64\n",
      " 14  lectures        10181 non-null  float64\n",
      " 15  total_length    10181 non-null  object \n",
      "dtypes: float64(4), object(12)\n",
      "memory usage: 1.2+ MB\n"
     ]
    }
   ],
   "source": [
    "df.info()"
   ]
  },
  {
   "cell_type": "code",
   "execution_count": 7,
   "id": "749b03bfecb7cfad",
   "metadata": {
    "ExecuteTime": {
     "end_time": "2025-10-26T12:40:35.547589Z",
     "start_time": "2025-10-26T12:40:35.541326Z"
    }
   },
   "outputs": [
    {
     "name": "stdout",
     "output_type": "stream",
     "text": [
      "Helper function 'parse_topics' is defined.\n"
     ]
    }
   ],
   "source": [
    "def parse_topics(topics_str):\n",
    "    \"\"\"\n",
    "    Parses the 'related_topics' string.\n",
    "    It handles:\n",
    "    1. Empty/NaN values.\n",
    "    2. Strings that are lists \"['a', 'b']\"\n",
    "    3. Strings that are simple comma-separated \"a, b, c\"\n",
    "    \"\"\"\n",
    "    # Handle empty or NaN values\n",
    "    if not isinstance(topics_str, str) or topics_str == \"[]\":\n",
    "        return []\n",
    "\n",
    "    try:\n",
    "        # First, try to evaluate it as a Python literal (e..g., \"['a', 'b']\")\n",
    "        if topics_str.startswith('[') and topics_str.endswith(']'):\n",
    "            parsed_list = ast.literal_eval(topics_str)\n",
    "            # Ensure all items are strings\n",
    "            return [str(item).strip() for item in parsed_list]\n",
    "\n",
    "        # If not a list-string, treat as comma-separated (e.g., \"a, b, c\")\n",
    "        else:\n",
    "            return [topic.strip() for topic in topics_str.split(',')]\n",
    "\n",
    "    except (ValueError, SyntaxError):\n",
    "        # Fallback for malformed strings\n",
    "        return [topic.strip() for topic in topics_str.split(',')]\n",
    "    except Exception:\n",
    "        # Catch-all for other errors\n",
    "        return []\n",
    "\n",
    "print(\"Helper function 'parse_topics' is defined.\")"
   ]
  },
  {
   "cell_type": "code",
   "execution_count": 8,
   "id": "18e9e6a5d4650066",
   "metadata": {
    "ExecuteTime": {
     "end_time": "2025-10-26T12:40:37.386498Z",
     "start_time": "2025-10-26T12:40:37.366621Z"
    }
   },
   "outputs": [],
   "source": [
    "df['topic_sequence'] = df['related_topics'].apply(parse_topics)\n",
    "\n",
    "df_sequences = df[df['topic_sequence'].map(len) > 0]\n",
    "\n",
    "sequence_db = df_sequences['topic_sequence'].tolist()"
   ]
  },
  {
   "cell_type": "code",
   "execution_count": 9,
   "id": "73e0b2da7da27052",
   "metadata": {
    "ExecuteTime": {
     "end_time": "2025-10-26T12:40:43.612202Z",
     "start_time": "2025-10-26T12:40:43.608267Z"
    }
   },
   "outputs": [
    {
     "name": "stdout",
     "output_type": "stream",
     "text": [
      "[['Machine Learning', 'Data Science', 'Development'], ['Data Science', 'Other IT & Software', 'IT & Software'], ['Data Science', 'Development'], ['Math', 'Data Science', 'Development'], ['Machine Learning', 'Data Science', 'Development']]\n"
     ]
    }
   ],
   "source": [
    "print(sequence_db[:5])"
   ]
  },
  {
   "cell_type": "code",
   "execution_count": 17,
   "id": "45edb60445f54c88",
   "metadata": {
    "ExecuteTime": {
     "end_time": "2025-10-26T12:47:53.106085Z",
     "start_time": "2025-10-26T12:47:53.060619Z"
    }
   },
   "outputs": [],
   "source": [
    "min_support = 50\n",
    "ps = PrefixSpan(sequence_db)\n",
    "\n",
    "top_100_patterns = ps.topk(100)"
   ]
  },
  {
   "cell_type": "code",
   "execution_count": 19,
   "id": "66bf9c193eb0d5f7",
   "metadata": {
    "ExecuteTime": {
     "end_time": "2025-10-26T14:29:09.297900Z",
     "start_time": "2025-10-26T14:29:09.266228Z"
    }
   },
   "outputs": [
    {
     "name": "stdout",
     "output_type": "stream",
     "text": [
      "support: 353, pattern: ['Machine Learning', 'Data Science', 'Development']\n",
      "support: 297, pattern: ['Python', 'Programming Languages', 'Development']\n",
      "support: 282, pattern: ['Java', 'Programming Languages', 'Development']\n",
      "support: 215, pattern: ['React JS', 'Web Development', 'Development']\n",
      "support: 192, pattern: ['JavaScript', 'Web Development', 'Development']\n",
      "support: 120, pattern: ['Node.Js', 'Web Development', 'Development']\n",
      "support: 119, pattern: ['Artificial Intelligence (AI)', 'Data Science', 'Development']\n",
      "support: 119, pattern: ['Python', 'Data Science', 'Development']\n",
      "support: 105, pattern: ['Microservices', 'Other IT & Software', 'IT & Software']\n",
      "support: 104, pattern: ['Generative AI (GenAI)', 'Data Science', 'Development']\n",
      "support: 104, pattern: ['Natural Language Processing (NLP)', 'Data Science', 'Development']\n",
      "support: 101, pattern: ['Model Context Protocol (MCP)', 'Other IT & Software', 'IT & Software']\n",
      "support: 83, pattern: ['Deep Learning', 'Data Science', 'Development']\n"
     ]
    }
   ],
   "source": [
    "for (support, pattern) in top_100_patterns:\n",
    "    if len(pattern) > 2:\n",
    "        print(f\"support: {support}, pattern: {pattern}\")"
   ]
  },
  {
   "cell_type": "markdown",
   "id": "2b0f5d0a2b7296e7",
   "metadata": {},
   "source": [
    "## Insight 1: \"Specific-to-General\" Topic Hierarchies\n",
    "This is the most obvious and frequent pattern. It shows how Udemy's category system is structured. A course is tagged with a specific topic, which is then followed by its main parent category.\n",
    "\n",
    "**Support: 1451, Pattern:** `['Web Development', 'Development']`\n",
    "**Support: 1686, Pattern:** `['Other IT & Software', 'IT & Software']`\n",
    "**Support: 1007, Pattern:** `['Programming Languages', 'Development']`\n",
    "**Support: 639, Pattern:** `['Network & Security', 'IT & Software']`\n",
    "\n",
    "**Meaning:**\n",
    "This is a clear tagging convention. When a creator lists a course, they are likely prompted to choose a specific topic (Web Development) and then its general \"bucket\" (Development). Your data proves this is a consistent rule.\n",
    "\n",
    "---\n",
    "\n",
    "## Insight 2: Common Interdisciplinary Topics\n",
    "These patterns show which distinct fields are most often \"packaged\" together in a single course. This reveals the most popular interdisciplinary skills.\n",
    "\n",
    "**Support: 1683, Pattern:** `['Data Science', 'Development']`\n",
    "**Support: 357, Pattern:** `['Machine Learning', 'Data Science']`\n",
    "**Support: 742, Pattern:** `['Math', 'Teaching & Academics']`\n",
    "**Support: 211, Pattern:** `['Business Analytics & Intelligence', 'Business']`\n",
    "\n",
    "**Meaning:**\n",
    "This shows how courses are marketed.\n",
    "Courses are not just \"Data Science\"; they are \"Data Science for Developers.\"\n",
    "\"Machine Learning\" courses are most frequently positioned as a part of \"Data Science.\"\n",
    "\"Math\" courses on Udemy are very often aimed at \"Teachers & Academics,\" not just pure mathematicians.\n",
    "\n",
    "---\n",
    "\n",
    "## Insight 3: Implied \"Tech Stacks\" & Course Structures\n",
    "These 3-item patterns are the most valuable. They show a clear \"Tool -> Skill -> Domain\" logic, which is the closest you'll get to a \"learning path\" from a creator's perspective.\n",
    "\n",
    "**Support: 215, Pattern:** `['React JS', 'Web Development', 'Development']`\n",
    "**Support: 297, Pattern:** `['Python', 'Programming Languages', 'Development']`\n",
    "**Support: 282, Pattern:** `['Java', 'Programming Languages', 'Development']`\n",
    "**Support: 353, Pattern:** `['Machine Learning', 'Data Science', 'Development']`\n",
    "\n",
    "**Meaning:**\n",
    "This is a \"Course DNA\" formula.\n",
    "\n",
    "**Formula 1:** (Tool -> Specific Domain -> General Domain)\n",
    "React JS (Tool) → Web Development (Specific Domain) → Development (General Domain).\n",
    "This is the standard \"stack\" for a React course.\n",
    "\n",
    "**Formula 2:** (Tool -> Skill Category -> General Domain)\n",
    "Python (Tool) → Programming Languages (Skill Category) → Development (General Domain).\n",
    "This tells you that Python and Java courses are primarily framed as general Development tools, not just for one specific purpose.\n",
    "\n",
    "**Formula 3:** (Sub-field -> Main Field -> General Domain)\n",
    "Machine Learning (Sub-field) → Data Science (Main Field) → Development (General Domain).\n",
    "This is the most common \"path\" for advanced AI/ML topics. It shows they are rooted in Data Science principles and applied in a Development context.\n",
    "\n",
    "---\n",
    "\n",
    "## Insight 4: Categorizing Emerging Technologies\n",
    "Looking at the lower-support patterns for new, \"hot\" topics tells you where they \"fit\" in the market.\n",
    "\n",
    "**Support: 143, Pattern:** `['Artificial Intelligence (AI)', 'Development']`\n",
    "**Support: 122, Pattern:** `['Artificial Intelligence (AI)', 'Data Science']`\n",
    "**Support: 119, Pattern:** `['Artificial Intelligence (AI)', 'Data Science', 'Development']`\n",
    "**Support: 116, Pattern:** `['Generative AI (GenAI)', 'Development']`\n",
    "**Support: 104, Pattern:** `['Generative AI (GenAI)', 'Data Science']`\n",
    "**Support: 87, Pattern:** `['Deep Learning', 'Data Science']`\n",
    "**Support: 86, Pattern:** `['Deep Learning', 'Development']`\n",
    "\n",
    "**Meaning:**\n",
    "There is a clear consensus: new AI topics are being categorized as belonging to both Data Science (the theory/field) and Development (the application).\n",
    "GenAI and Deep Learning aren't their own categories yet; they are specializations within these two main buckets. This is a very useful insight into market positioning.\n",
    "\n"
   ]
  }
 ],
 "metadata": {
  "kernelspec": {
   "display_name": "Python 3",
   "language": "python",
   "name": "python3"
  },
  "language_info": {
   "codemirror_mode": {
    "name": "ipython",
    "version": 2
   },
   "file_extension": ".py",
   "mimetype": "text/x-python",
   "name": "python",
   "nbconvert_exporter": "python",
   "pygments_lexer": "ipython2",
   "version": "2.7.6"
  }
 },
 "nbformat": 4,
 "nbformat_minor": 5
}
